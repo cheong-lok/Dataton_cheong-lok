{
 "cells": [
  {
   "cell_type": "code",
   "execution_count": 2,
   "metadata": {},
   "outputs": [],
   "source": [
    "# 라이브러리 임포트\n",
    "\n",
    "import pandas as pd"
   ]
  },
  {
   "cell_type": "code",
   "execution_count": 3,
   "metadata": {},
   "outputs": [],
   "source": [
    "#raw data load\n",
    "\n",
    "mental_raw = pd.read_spss('../data/mental_health/(데이터) 10대 청소년의 정신건강 실태조사.sav')"
   ]
  },
  {
   "cell_type": "code",
   "execution_count": 4,
   "metadata": {},
   "outputs": [
    {
     "data": {
      "text/plain": [
       "Index(['PID', 'TYPE', 'SCH_ID', 'SEX', 'DQ1M1', 'DQ1M2', 'DQ1M3', 'DQ1M4',\n",
       "       'DQ1M5', 'DQ1M6',\n",
       "       ...\n",
       "       'Q36_2M3', 'Q36_2M4', 'Q36_2M5', 'Q36_2M6', 'Q36_2M7', 'WT_A', 'WT_B',\n",
       "       'CLASS1', 'CLASS2', 'AREA'],\n",
       "      dtype='object', length=313)"
      ]
     },
     "execution_count": 4,
     "metadata": {},
     "output_type": "execute_result"
    }
   ],
   "source": [
    "mental_raw.columns"
   ]
  },
  {
   "cell_type": "markdown",
   "metadata": {},
   "source": [
    "## 함수 정의"
   ]
  },
  {
   "cell_type": "code",
   "execution_count": 5,
   "metadata": {},
   "outputs": [],
   "source": [
    "def df_preprocessing(df,col_list):\n",
    "    df = mental_raw.loc[:,col_list]\n",
    "    df['AREA'] = df['AREA'].astype(str)\n",
    "    df = df.set_index('AREA')\n",
    "    return df"
   ]
  },
  {
   "cell_type": "code",
   "execution_count": 6,
   "metadata": {},
   "outputs": [],
   "source": [
    "def likert_to_mean(df,likert_dict):\n",
    "    df = df.applymap(lambda x: likert_dict[x])\n",
    "    df_mean = df.groupby('AREA').mean()\n",
    "    return df_mean"
   ]
  },
  {
   "cell_type": "markdown",
   "metadata": {},
   "source": [
    "## 우울 관련 항목 추출"
   ]
  },
  {
   "cell_type": "code",
   "execution_count": 141,
   "metadata": {},
   "outputs": [],
   "source": [
    "depressed_raw = df_preprocessing(mental_raw,['AREA', 'Q4A1', 'Q4A2', 'Q4A3', 'Q4A4', 'Q4A5', 'Q4A6', 'Q4A7', 'Q4A8', 'Q4A9', 'Q4A10', 'Q4A11', 'Q4A12'])"
   ]
  },
  {
   "cell_type": "code",
   "execution_count": 142,
   "metadata": {},
   "outputs": [
    {
     "data": {
      "text/html": [
       "<div>\n",
       "<style scoped>\n",
       "    .dataframe tbody tr th:only-of-type {\n",
       "        vertical-align: middle;\n",
       "    }\n",
       "\n",
       "    .dataframe tbody tr th {\n",
       "        vertical-align: top;\n",
       "    }\n",
       "\n",
       "    .dataframe thead th {\n",
       "        text-align: right;\n",
       "    }\n",
       "</style>\n",
       "<table border=\"1\" class=\"dataframe\">\n",
       "  <thead>\n",
       "    <tr style=\"text-align: right;\">\n",
       "      <th></th>\n",
       "      <th>Q4A1</th>\n",
       "      <th>Q4A2</th>\n",
       "      <th>Q4A3</th>\n",
       "      <th>Q4A4</th>\n",
       "      <th>Q4A5</th>\n",
       "      <th>Q4A6</th>\n",
       "      <th>Q4A7</th>\n",
       "      <th>Q4A8</th>\n",
       "      <th>Q4A9</th>\n",
       "      <th>Q4A10</th>\n",
       "      <th>Q4A11</th>\n",
       "      <th>Q4A12</th>\n",
       "    </tr>\n",
       "    <tr>\n",
       "      <th>AREA</th>\n",
       "      <th></th>\n",
       "      <th></th>\n",
       "      <th></th>\n",
       "      <th></th>\n",
       "      <th></th>\n",
       "      <th></th>\n",
       "      <th></th>\n",
       "      <th></th>\n",
       "      <th></th>\n",
       "      <th></th>\n",
       "      <th></th>\n",
       "      <th></th>\n",
       "    </tr>\n",
       "  </thead>\n",
       "  <tbody>\n",
       "    <tr>\n",
       "      <th>경상</th>\n",
       "      <td>약간 그렇다</td>\n",
       "      <td>약간 그렇다</td>\n",
       "      <td>결코 그렇지 않다</td>\n",
       "      <td>약간 그렇다</td>\n",
       "      <td>결코 그렇지 않다</td>\n",
       "      <td>약간 그렇다</td>\n",
       "      <td>결코 그렇지 않다</td>\n",
       "      <td>결코 그렇지 않다</td>\n",
       "      <td>약간 그렇다</td>\n",
       "      <td>결코 그렇지 않다</td>\n",
       "      <td>약간 그렇다</td>\n",
       "      <td>약간 그렇다</td>\n",
       "    </tr>\n",
       "    <tr>\n",
       "      <th>경기/인천</th>\n",
       "      <td>결코 그렇지 않다</td>\n",
       "      <td>약간 그렇다</td>\n",
       "      <td>매우 그렇다</td>\n",
       "      <td>약간 그렇다</td>\n",
       "      <td>결코 그렇지 않다</td>\n",
       "      <td>그렇다</td>\n",
       "      <td>결코 그렇지 않다</td>\n",
       "      <td>결코 그렇지 않다</td>\n",
       "      <td>결코 그렇지 않다</td>\n",
       "      <td>상당히 그렇다</td>\n",
       "      <td>결코 그렇지 않다</td>\n",
       "      <td>약간 그렇다</td>\n",
       "    </tr>\n",
       "    <tr>\n",
       "      <th>경기/인천</th>\n",
       "      <td>약간 그렇다</td>\n",
       "      <td>그렇다</td>\n",
       "      <td>결코 그렇지 않다</td>\n",
       "      <td>약간 그렇다</td>\n",
       "      <td>결코 그렇지 않다</td>\n",
       "      <td>약간 그렇다</td>\n",
       "      <td>결코 그렇지 않다</td>\n",
       "      <td>결코 그렇지 않다</td>\n",
       "      <td>약간 그렇다</td>\n",
       "      <td>결코 그렇지 않다</td>\n",
       "      <td>결코 그렇지 않다</td>\n",
       "      <td>약간 그렇다</td>\n",
       "    </tr>\n",
       "    <tr>\n",
       "      <th>서울</th>\n",
       "      <td>결코 그렇지 않다</td>\n",
       "      <td>결코 그렇지 않다</td>\n",
       "      <td>결코 그렇지 않다</td>\n",
       "      <td>결코 그렇지 않다</td>\n",
       "      <td>결코 그렇지 않다</td>\n",
       "      <td>결코 그렇지 않다</td>\n",
       "      <td>결코 그렇지 않다</td>\n",
       "      <td>결코 그렇지 않다</td>\n",
       "      <td>결코 그렇지 않다</td>\n",
       "      <td>결코 그렇지 않다</td>\n",
       "      <td>결코 그렇지 않다</td>\n",
       "      <td>결코 그렇지 않다</td>\n",
       "    </tr>\n",
       "    <tr>\n",
       "      <th>경상</th>\n",
       "      <td>결코 그렇지 않다</td>\n",
       "      <td>그렇다</td>\n",
       "      <td>결코 그렇지 않다</td>\n",
       "      <td>결코 그렇지 않다</td>\n",
       "      <td>결코 그렇지 않다</td>\n",
       "      <td>약간 그렇다</td>\n",
       "      <td>결코 그렇지 않다</td>\n",
       "      <td>약간 그렇다</td>\n",
       "      <td>결코 그렇지 않다</td>\n",
       "      <td>결코 그렇지 않다</td>\n",
       "      <td>약간 그렇다</td>\n",
       "      <td>약간 그렇다</td>\n",
       "    </tr>\n",
       "  </tbody>\n",
       "</table>\n",
       "</div>"
      ],
      "text/plain": [
       "            Q4A1       Q4A2       Q4A3       Q4A4       Q4A5       Q4A6  \\\n",
       "AREA                                                                      \n",
       "경상        약간 그렇다     약간 그렇다  결코 그렇지 않다     약간 그렇다  결코 그렇지 않다     약간 그렇다   \n",
       "경기/인천  결코 그렇지 않다     약간 그렇다     매우 그렇다     약간 그렇다  결코 그렇지 않다        그렇다   \n",
       "경기/인천     약간 그렇다        그렇다  결코 그렇지 않다     약간 그렇다  결코 그렇지 않다     약간 그렇다   \n",
       "서울     결코 그렇지 않다  결코 그렇지 않다  결코 그렇지 않다  결코 그렇지 않다  결코 그렇지 않다  결코 그렇지 않다   \n",
       "경상     결코 그렇지 않다        그렇다  결코 그렇지 않다  결코 그렇지 않다  결코 그렇지 않다     약간 그렇다   \n",
       "\n",
       "            Q4A7       Q4A8       Q4A9      Q4A10      Q4A11      Q4A12  \n",
       "AREA                                                                     \n",
       "경상     결코 그렇지 않다  결코 그렇지 않다     약간 그렇다  결코 그렇지 않다     약간 그렇다     약간 그렇다  \n",
       "경기/인천  결코 그렇지 않다  결코 그렇지 않다  결코 그렇지 않다    상당히 그렇다  결코 그렇지 않다     약간 그렇다  \n",
       "경기/인천  결코 그렇지 않다  결코 그렇지 않다     약간 그렇다  결코 그렇지 않다  결코 그렇지 않다     약간 그렇다  \n",
       "서울     결코 그렇지 않다  결코 그렇지 않다  결코 그렇지 않다  결코 그렇지 않다  결코 그렇지 않다  결코 그렇지 않다  \n",
       "경상     결코 그렇지 않다     약간 그렇다  결코 그렇지 않다  결코 그렇지 않다     약간 그렇다     약간 그렇다  "
      ]
     },
     "execution_count": 142,
     "metadata": {},
     "output_type": "execute_result"
    }
   ],
   "source": [
    "depressed_raw.head()"
   ]
  },
  {
   "cell_type": "code",
   "execution_count": 143,
   "metadata": {},
   "outputs": [
    {
     "data": {
      "text/plain": [
       "Q4A1     0\n",
       "Q4A2     0\n",
       "Q4A3     0\n",
       "Q4A4     0\n",
       "Q4A5     0\n",
       "Q4A6     0\n",
       "Q4A7     0\n",
       "Q4A8     0\n",
       "Q4A9     0\n",
       "Q4A10    0\n",
       "Q4A11    0\n",
       "Q4A12    0\n",
       "dtype: int64"
      ]
     },
     "execution_count": 143,
     "metadata": {},
     "output_type": "execute_result"
    }
   ],
   "source": [
    "# 결측치 확인 : 0\n",
    "depressed_raw.isnull().sum()"
   ]
  },
  {
   "cell_type": "code",
   "execution_count": 156,
   "metadata": {},
   "outputs": [
    {
     "data": {
      "text/plain": [
       "Q4A1\n",
       "결코 그렇지 않다    4683\n",
       "약간 그렇다       1353\n",
       "그렇다           346\n",
       "상당히 그렇다       186\n",
       "매우 그렇다        121\n",
       "Name: count, dtype: int64"
      ]
     },
     "execution_count": 156,
     "metadata": {},
     "output_type": "execute_result"
    }
   ],
   "source": [
    "depressed_raw['Q4A1'].value_counts()"
   ]
  },
  {
   "cell_type": "code",
   "execution_count": 145,
   "metadata": {},
   "outputs": [],
   "source": [
    "depressed_mean = likert_to_mean(depressed_raw,{'결코 그렇지 않다': 0, '그렇다': 25, '매우 그렇다': 50, '상당히 그렇다': 75, '약간 그렇다': 100})"
   ]
  },
  {
   "cell_type": "code",
   "execution_count": 146,
   "metadata": {},
   "outputs": [
    {
     "data": {
      "text/html": [
       "<div>\n",
       "<style scoped>\n",
       "    .dataframe tbody tr th:only-of-type {\n",
       "        vertical-align: middle;\n",
       "    }\n",
       "\n",
       "    .dataframe tbody tr th {\n",
       "        vertical-align: top;\n",
       "    }\n",
       "\n",
       "    .dataframe thead th {\n",
       "        text-align: right;\n",
       "    }\n",
       "</style>\n",
       "<table border=\"1\" class=\"dataframe\">\n",
       "  <thead>\n",
       "    <tr style=\"text-align: right;\">\n",
       "      <th></th>\n",
       "      <th>Q4A1</th>\n",
       "      <th>Q4A2</th>\n",
       "      <th>Q4A3</th>\n",
       "      <th>Q4A4</th>\n",
       "      <th>Q4A5</th>\n",
       "      <th>Q4A6</th>\n",
       "      <th>Q4A7</th>\n",
       "      <th>Q4A8</th>\n",
       "      <th>Q4A9</th>\n",
       "      <th>Q4A10</th>\n",
       "      <th>Q4A11</th>\n",
       "      <th>Q4A12</th>\n",
       "    </tr>\n",
       "    <tr>\n",
       "      <th>AREA</th>\n",
       "      <th></th>\n",
       "      <th></th>\n",
       "      <th></th>\n",
       "      <th></th>\n",
       "      <th></th>\n",
       "      <th></th>\n",
       "      <th></th>\n",
       "      <th></th>\n",
       "      <th></th>\n",
       "      <th></th>\n",
       "      <th></th>\n",
       "      <th></th>\n",
       "    </tr>\n",
       "  </thead>\n",
       "  <tbody>\n",
       "    <tr>\n",
       "      <th>강원/충청</th>\n",
       "      <td>25.354970</td>\n",
       "      <td>22.388438</td>\n",
       "      <td>22.185598</td>\n",
       "      <td>21.298174</td>\n",
       "      <td>16.125761</td>\n",
       "      <td>21.247465</td>\n",
       "      <td>13.488844</td>\n",
       "      <td>10.775862</td>\n",
       "      <td>15.897566</td>\n",
       "      <td>17.216024</td>\n",
       "      <td>22.261663</td>\n",
       "      <td>21.475659</td>\n",
       "    </tr>\n",
       "    <tr>\n",
       "      <th>경기/인천</th>\n",
       "      <td>24.220322</td>\n",
       "      <td>23.201710</td>\n",
       "      <td>22.673541</td>\n",
       "      <td>19.290744</td>\n",
       "      <td>16.976861</td>\n",
       "      <td>20.347082</td>\n",
       "      <td>13.631791</td>\n",
       "      <td>11.670020</td>\n",
       "      <td>15.090543</td>\n",
       "      <td>16.851107</td>\n",
       "      <td>19.454225</td>\n",
       "      <td>21.013581</td>\n",
       "    </tr>\n",
       "    <tr>\n",
       "      <th>경상</th>\n",
       "      <td>23.849372</td>\n",
       "      <td>21.503288</td>\n",
       "      <td>20.965332</td>\n",
       "      <td>20.786013</td>\n",
       "      <td>14.330544</td>\n",
       "      <td>21.010161</td>\n",
       "      <td>12.716677</td>\n",
       "      <td>10.729229</td>\n",
       "      <td>12.895995</td>\n",
       "      <td>16.138673</td>\n",
       "      <td>20.442319</td>\n",
       "      <td>18.783622</td>\n",
       "    </tr>\n",
       "    <tr>\n",
       "      <th>서울</th>\n",
       "      <td>25.586643</td>\n",
       "      <td>25.451264</td>\n",
       "      <td>26.037906</td>\n",
       "      <td>21.592960</td>\n",
       "      <td>17.621841</td>\n",
       "      <td>21.389892</td>\n",
       "      <td>14.485560</td>\n",
       "      <td>13.199458</td>\n",
       "      <td>16.380866</td>\n",
       "      <td>18.659747</td>\n",
       "      <td>22.721119</td>\n",
       "      <td>19.584838</td>\n",
       "    </tr>\n",
       "    <tr>\n",
       "      <th>전라/제주</th>\n",
       "      <td>24.143469</td>\n",
       "      <td>25.294433</td>\n",
       "      <td>23.394004</td>\n",
       "      <td>21.252677</td>\n",
       "      <td>19.218415</td>\n",
       "      <td>20.851178</td>\n",
       "      <td>13.784797</td>\n",
       "      <td>14.079229</td>\n",
       "      <td>16.327623</td>\n",
       "      <td>18.442184</td>\n",
       "      <td>18.549251</td>\n",
       "      <td>18.816916</td>\n",
       "    </tr>\n",
       "  </tbody>\n",
       "</table>\n",
       "</div>"
      ],
      "text/plain": [
       "            Q4A1       Q4A2       Q4A3       Q4A4       Q4A5       Q4A6  \\\n",
       "AREA                                                                      \n",
       "강원/충청  25.354970  22.388438  22.185598  21.298174  16.125761  21.247465   \n",
       "경기/인천  24.220322  23.201710  22.673541  19.290744  16.976861  20.347082   \n",
       "경상     23.849372  21.503288  20.965332  20.786013  14.330544  21.010161   \n",
       "서울     25.586643  25.451264  26.037906  21.592960  17.621841  21.389892   \n",
       "전라/제주  24.143469  25.294433  23.394004  21.252677  19.218415  20.851178   \n",
       "\n",
       "            Q4A7       Q4A8       Q4A9      Q4A10      Q4A11      Q4A12  \n",
       "AREA                                                                     \n",
       "강원/충청  13.488844  10.775862  15.897566  17.216024  22.261663  21.475659  \n",
       "경기/인천  13.631791  11.670020  15.090543  16.851107  19.454225  21.013581  \n",
       "경상     12.716677  10.729229  12.895995  16.138673  20.442319  18.783622  \n",
       "서울     14.485560  13.199458  16.380866  18.659747  22.721119  19.584838  \n",
       "전라/제주  13.784797  14.079229  16.327623  18.442184  18.549251  18.816916  "
      ]
     },
     "execution_count": 146,
     "metadata": {},
     "output_type": "execute_result"
    }
   ],
   "source": [
    "depressed_mean.head()"
   ]
  },
  {
   "cell_type": "markdown",
   "metadata": {},
   "source": [
    "## 불안 항목 추출"
   ]
  },
  {
   "cell_type": "code",
   "execution_count": 147,
   "metadata": {},
   "outputs": [],
   "source": [
    "unrest_raw = df_preprocessing(mental_raw,['AREA','Q5A1', 'Q5A2', 'Q5A3', 'Q5A4', 'Q5A5', 'Q5A6', 'Q5A7', 'Q5A8', 'Q5A9', 'Q5A10', 'Q5A11'])"
   ]
  },
  {
   "cell_type": "code",
   "execution_count": 148,
   "metadata": {},
   "outputs": [
    {
     "data": {
      "text/plain": [
       "Q5A1     0\n",
       "Q5A2     0\n",
       "Q5A3     0\n",
       "Q5A4     0\n",
       "Q5A5     0\n",
       "Q5A6     0\n",
       "Q5A7     0\n",
       "Q5A8     0\n",
       "Q5A9     0\n",
       "Q5A10    0\n",
       "Q5A11    0\n",
       "dtype: int64"
      ]
     },
     "execution_count": 148,
     "metadata": {},
     "output_type": "execute_result"
    }
   ],
   "source": [
    "# 결측치 확인 : 0\n",
    "unrest_raw.isnull().sum()"
   ]
  },
  {
   "cell_type": "code",
   "execution_count": 155,
   "metadata": {},
   "outputs": [
    {
     "data": {
      "text/plain": [
       "Q5A1\n",
       "결코 그렇지 않다    5506\n",
       "드물게 그렇다       652\n",
       "때때로 그렇다       295\n",
       "자주 그렇다        153\n",
       "항상 그렇다         83\n",
       "Name: count, dtype: int64"
      ]
     },
     "execution_count": 155,
     "metadata": {},
     "output_type": "execute_result"
    }
   ],
   "source": [
    "unrest_raw['Q5A1'].value_counts()"
   ]
  },
  {
   "cell_type": "code",
   "execution_count": 149,
   "metadata": {},
   "outputs": [
    {
     "data": {
      "text/html": [
       "<div>\n",
       "<style scoped>\n",
       "    .dataframe tbody tr th:only-of-type {\n",
       "        vertical-align: middle;\n",
       "    }\n",
       "\n",
       "    .dataframe tbody tr th {\n",
       "        vertical-align: top;\n",
       "    }\n",
       "\n",
       "    .dataframe thead th {\n",
       "        text-align: right;\n",
       "    }\n",
       "</style>\n",
       "<table border=\"1\" class=\"dataframe\">\n",
       "  <thead>\n",
       "    <tr style=\"text-align: right;\">\n",
       "      <th></th>\n",
       "      <th>Q5A1</th>\n",
       "      <th>Q5A2</th>\n",
       "      <th>Q5A3</th>\n",
       "      <th>Q5A4</th>\n",
       "      <th>Q5A5</th>\n",
       "      <th>Q5A6</th>\n",
       "      <th>Q5A7</th>\n",
       "      <th>Q5A8</th>\n",
       "      <th>Q5A9</th>\n",
       "      <th>Q5A10</th>\n",
       "      <th>Q5A11</th>\n",
       "    </tr>\n",
       "    <tr>\n",
       "      <th>AREA</th>\n",
       "      <th></th>\n",
       "      <th></th>\n",
       "      <th></th>\n",
       "      <th></th>\n",
       "      <th></th>\n",
       "      <th></th>\n",
       "      <th></th>\n",
       "      <th></th>\n",
       "      <th></th>\n",
       "      <th></th>\n",
       "      <th></th>\n",
       "    </tr>\n",
       "  </thead>\n",
       "  <tbody>\n",
       "    <tr>\n",
       "      <th>강원/충청</th>\n",
       "      <td>8.367140</td>\n",
       "      <td>11.409736</td>\n",
       "      <td>9.077079</td>\n",
       "      <td>10.877282</td>\n",
       "      <td>8.341785</td>\n",
       "      <td>12.195740</td>\n",
       "      <td>12.043611</td>\n",
       "      <td>16.962475</td>\n",
       "      <td>4.918864</td>\n",
       "      <td>10.344828</td>\n",
       "      <td>10.268763</td>\n",
       "    </tr>\n",
       "    <tr>\n",
       "      <th>경기/인천</th>\n",
       "      <td>7.256036</td>\n",
       "      <td>10.362173</td>\n",
       "      <td>7.859658</td>\n",
       "      <td>9.154930</td>\n",
       "      <td>7.042254</td>\n",
       "      <td>10.663984</td>\n",
       "      <td>11.405936</td>\n",
       "      <td>15.782193</td>\n",
       "      <td>4.514588</td>\n",
       "      <td>10.462777</td>\n",
       "      <td>9.959759</td>\n",
       "    </tr>\n",
       "    <tr>\n",
       "      <th>경상</th>\n",
       "      <td>6.873879</td>\n",
       "      <td>9.533772</td>\n",
       "      <td>7.740586</td>\n",
       "      <td>9.429169</td>\n",
       "      <td>6.918709</td>\n",
       "      <td>10.325762</td>\n",
       "      <td>11.192469</td>\n",
       "      <td>14.808727</td>\n",
       "      <td>4.692170</td>\n",
       "      <td>9.847579</td>\n",
       "      <td>9.309623</td>\n",
       "    </tr>\n",
       "    <tr>\n",
       "      <th>서울</th>\n",
       "      <td>7.851986</td>\n",
       "      <td>10.920578</td>\n",
       "      <td>8.889892</td>\n",
       "      <td>10.311372</td>\n",
       "      <td>7.671480</td>\n",
       "      <td>11.281588</td>\n",
       "      <td>12.996390</td>\n",
       "      <td>16.764440</td>\n",
       "      <td>5.257220</td>\n",
       "      <td>10.988267</td>\n",
       "      <td>11.371841</td>\n",
       "    </tr>\n",
       "    <tr>\n",
       "      <th>전라/제주</th>\n",
       "      <td>8.511777</td>\n",
       "      <td>11.215203</td>\n",
       "      <td>9.876874</td>\n",
       "      <td>10.786938</td>\n",
       "      <td>8.431478</td>\n",
       "      <td>12.339400</td>\n",
       "      <td>13.731263</td>\n",
       "      <td>15.551392</td>\n",
       "      <td>5.808351</td>\n",
       "      <td>11.509636</td>\n",
       "      <td>11.429336</td>\n",
       "    </tr>\n",
       "  </tbody>\n",
       "</table>\n",
       "</div>"
      ],
      "text/plain": [
       "           Q5A1       Q5A2      Q5A3       Q5A4      Q5A5       Q5A6  \\\n",
       "AREA                                                                   \n",
       "강원/충청  8.367140  11.409736  9.077079  10.877282  8.341785  12.195740   \n",
       "경기/인천  7.256036  10.362173  7.859658   9.154930  7.042254  10.663984   \n",
       "경상     6.873879   9.533772  7.740586   9.429169  6.918709  10.325762   \n",
       "서울     7.851986  10.920578  8.889892  10.311372  7.671480  11.281588   \n",
       "전라/제주  8.511777  11.215203  9.876874  10.786938  8.431478  12.339400   \n",
       "\n",
       "            Q5A7       Q5A8      Q5A9      Q5A10      Q5A11  \n",
       "AREA                                                         \n",
       "강원/충청  12.043611  16.962475  4.918864  10.344828  10.268763  \n",
       "경기/인천  11.405936  15.782193  4.514588  10.462777   9.959759  \n",
       "경상     11.192469  14.808727  4.692170   9.847579   9.309623  \n",
       "서울     12.996390  16.764440  5.257220  10.988267  11.371841  \n",
       "전라/제주  13.731263  15.551392  5.808351  11.509636  11.429336  "
      ]
     },
     "execution_count": 149,
     "metadata": {},
     "output_type": "execute_result"
    }
   ],
   "source": [
    "unrest_mean = likert_to_mean(unrest_raw,{'결코 그렇지 않다': 0, '드물게 그렇다': 25, '때때로 그렇다': 50, '자주 그렇다': 75, '항상 그렇다': 100})\n",
    "unrest_mean.head()"
   ]
  },
  {
   "cell_type": "markdown",
   "metadata": {},
   "source": [
    "## 자살관련 항목 추출"
   ]
  },
  {
   "cell_type": "code",
   "execution_count": 150,
   "metadata": {},
   "outputs": [],
   "source": [
    "suicide_raw = df_preprocessing(mental_raw,['AREA','Q6A1', 'Q6A2', 'Q6A3', 'Q6A4'])"
   ]
  },
  {
   "cell_type": "code",
   "execution_count": 151,
   "metadata": {},
   "outputs": [
    {
     "data": {
      "text/plain": [
       "Q6A1    0\n",
       "Q6A2    0\n",
       "Q6A3    0\n",
       "Q6A4    0\n",
       "dtype: int64"
      ]
     },
     "execution_count": 151,
     "metadata": {},
     "output_type": "execute_result"
    }
   ],
   "source": [
    "# 결측치 확인 : 0\n",
    "suicide_raw.isnull().sum()"
   ]
  },
  {
   "cell_type": "code",
   "execution_count": 153,
   "metadata": {},
   "outputs": [
    {
     "data": {
      "text/plain": [
       "Q6A1\n",
       "결코 그렇지 않다    5773\n",
       "약간 그렇다        602\n",
       "그렇다           135\n",
       "상당히 그렇다        93\n",
       "매우 그렇다         86\n",
       "Name: count, dtype: int64"
      ]
     },
     "execution_count": 153,
     "metadata": {},
     "output_type": "execute_result"
    }
   ],
   "source": [
    "suicide_raw['Q6A1'].value_counts()"
   ]
  },
  {
   "cell_type": "code",
   "execution_count": 154,
   "metadata": {},
   "outputs": [
    {
     "data": {
      "text/html": [
       "<div>\n",
       "<style scoped>\n",
       "    .dataframe tbody tr th:only-of-type {\n",
       "        vertical-align: middle;\n",
       "    }\n",
       "\n",
       "    .dataframe tbody tr th {\n",
       "        vertical-align: top;\n",
       "    }\n",
       "\n",
       "    .dataframe thead th {\n",
       "        text-align: right;\n",
       "    }\n",
       "</style>\n",
       "<table border=\"1\" class=\"dataframe\">\n",
       "  <thead>\n",
       "    <tr style=\"text-align: right;\">\n",
       "      <th></th>\n",
       "      <th>Q6A1</th>\n",
       "      <th>Q6A2</th>\n",
       "      <th>Q6A3</th>\n",
       "      <th>Q6A4</th>\n",
       "    </tr>\n",
       "    <tr>\n",
       "      <th>AREA</th>\n",
       "      <th></th>\n",
       "      <th></th>\n",
       "      <th></th>\n",
       "      <th></th>\n",
       "    </tr>\n",
       "  </thead>\n",
       "  <tbody>\n",
       "    <tr>\n",
       "      <th>강원/충청</th>\n",
       "      <td>6.186613</td>\n",
       "      <td>5.299189</td>\n",
       "      <td>2.789047</td>\n",
       "      <td>3.803245</td>\n",
       "    </tr>\n",
       "    <tr>\n",
       "      <th>경기/인천</th>\n",
       "      <td>5.218813</td>\n",
       "      <td>4.388833</td>\n",
       "      <td>2.276157</td>\n",
       "      <td>3.584004</td>\n",
       "    </tr>\n",
       "    <tr>\n",
       "      <th>경상</th>\n",
       "      <td>4.722056</td>\n",
       "      <td>3.989839</td>\n",
       "      <td>1.808129</td>\n",
       "      <td>3.661088</td>\n",
       "    </tr>\n",
       "    <tr>\n",
       "      <th>서울</th>\n",
       "      <td>5.685921</td>\n",
       "      <td>4.828520</td>\n",
       "      <td>2.301444</td>\n",
       "      <td>3.316787</td>\n",
       "    </tr>\n",
       "    <tr>\n",
       "      <th>전라/제주</th>\n",
       "      <td>7.173448</td>\n",
       "      <td>6.209850</td>\n",
       "      <td>3.479657</td>\n",
       "      <td>4.496788</td>\n",
       "    </tr>\n",
       "  </tbody>\n",
       "</table>\n",
       "</div>"
      ],
      "text/plain": [
       "           Q6A1      Q6A2      Q6A3      Q6A4\n",
       "AREA                                         \n",
       "강원/충청  6.186613  5.299189  2.789047  3.803245\n",
       "경기/인천  5.218813  4.388833  2.276157  3.584004\n",
       "경상     4.722056  3.989839  1.808129  3.661088\n",
       "서울     5.685921  4.828520  2.301444  3.316787\n",
       "전라/제주  7.173448  6.209850  3.479657  4.496788"
      ]
     },
     "execution_count": 154,
     "metadata": {},
     "output_type": "execute_result"
    }
   ],
   "source": [
    "suicide_mean = likert_to_mean(suicide_raw,{'결코 그렇지 않다': 0, '약간 그렇다': 25, '그렇다': 50, '상당히 그렇다': 75, '매우 그렇다': 100})\n",
    "suicide_mean.head()"
   ]
  },
  {
   "cell_type": "markdown",
   "metadata": {},
   "source": [
    "## 스트레스관련 항목 추출"
   ]
  },
  {
   "cell_type": "code",
   "execution_count": 157,
   "metadata": {},
   "outputs": [],
   "source": [
    "stress_raw = df_preprocessing(mental_raw,['AREA','Q7A1', 'Q7A2', 'Q7A3', 'Q7A4', 'Q7A5', 'Q7A6', 'Q7A7', 'Q7A8', 'Q7A9', 'Q7A10'])"
   ]
  },
  {
   "cell_type": "code",
   "execution_count": 159,
   "metadata": {},
   "outputs": [
    {
     "data": {
      "text/plain": [
       "Q7A1     0\n",
       "Q7A2     0\n",
       "Q7A3     0\n",
       "Q7A4     0\n",
       "Q7A5     0\n",
       "Q7A6     0\n",
       "Q7A7     0\n",
       "Q7A8     0\n",
       "Q7A9     0\n",
       "Q7A10    0\n",
       "dtype: int64"
      ]
     },
     "execution_count": 159,
     "metadata": {},
     "output_type": "execute_result"
    }
   ],
   "source": [
    "# 결측치 확인 : 0\n",
    "stress_raw.isnull().sum()"
   ]
  },
  {
   "cell_type": "code",
   "execution_count": 160,
   "metadata": {},
   "outputs": [
    {
     "data": {
      "text/plain": [
       "Q7A1\n",
       "전혀 없었다       2355\n",
       "가끔 있었다       1982\n",
       "거의 없었다       1609\n",
       "꽤 자주 있었다      543\n",
       "매우 자주 있었다     200\n",
       "Name: count, dtype: int64"
      ]
     },
     "execution_count": 160,
     "metadata": {},
     "output_type": "execute_result"
    }
   ],
   "source": [
    "stress_raw['Q7A1'].value_counts()"
   ]
  },
  {
   "cell_type": "code",
   "execution_count": 161,
   "metadata": {},
   "outputs": [
    {
     "data": {
      "text/html": [
       "<div>\n",
       "<style scoped>\n",
       "    .dataframe tbody tr th:only-of-type {\n",
       "        vertical-align: middle;\n",
       "    }\n",
       "\n",
       "    .dataframe tbody tr th {\n",
       "        vertical-align: top;\n",
       "    }\n",
       "\n",
       "    .dataframe thead th {\n",
       "        text-align: right;\n",
       "    }\n",
       "</style>\n",
       "<table border=\"1\" class=\"dataframe\">\n",
       "  <thead>\n",
       "    <tr style=\"text-align: right;\">\n",
       "      <th></th>\n",
       "      <th>Q7A1</th>\n",
       "      <th>Q7A2</th>\n",
       "      <th>Q7A3</th>\n",
       "      <th>Q7A4</th>\n",
       "      <th>Q7A5</th>\n",
       "      <th>Q7A6</th>\n",
       "      <th>Q7A7</th>\n",
       "      <th>Q7A8</th>\n",
       "      <th>Q7A9</th>\n",
       "      <th>Q7A10</th>\n",
       "    </tr>\n",
       "    <tr>\n",
       "      <th>AREA</th>\n",
       "      <th></th>\n",
       "      <th></th>\n",
       "      <th></th>\n",
       "      <th></th>\n",
       "      <th></th>\n",
       "      <th></th>\n",
       "      <th></th>\n",
       "      <th></th>\n",
       "      <th></th>\n",
       "      <th></th>\n",
       "    </tr>\n",
       "  </thead>\n",
       "  <tbody>\n",
       "    <tr>\n",
       "      <th>강원/충청</th>\n",
       "      <td>29.259635</td>\n",
       "      <td>28.169371</td>\n",
       "      <td>33.468560</td>\n",
       "      <td>37.043611</td>\n",
       "      <td>36.992901</td>\n",
       "      <td>28.397566</td>\n",
       "      <td>37.728195</td>\n",
       "      <td>31.313387</td>\n",
       "      <td>35.395538</td>\n",
       "      <td>26.749493</td>\n",
       "    </tr>\n",
       "    <tr>\n",
       "      <th>경기/인천</th>\n",
       "      <td>28.206740</td>\n",
       "      <td>29.929577</td>\n",
       "      <td>33.714789</td>\n",
       "      <td>37.336519</td>\n",
       "      <td>37.374245</td>\n",
       "      <td>29.275654</td>\n",
       "      <td>39.901911</td>\n",
       "      <td>31.991952</td>\n",
       "      <td>38.141348</td>\n",
       "      <td>26.571932</td>\n",
       "    </tr>\n",
       "    <tr>\n",
       "      <th>경상</th>\n",
       "      <td>26.897788</td>\n",
       "      <td>24.745965</td>\n",
       "      <td>29.736999</td>\n",
       "      <td>36.476390</td>\n",
       "      <td>36.984459</td>\n",
       "      <td>25.493126</td>\n",
       "      <td>38.404065</td>\n",
       "      <td>29.946204</td>\n",
       "      <td>37.806336</td>\n",
       "      <td>25.149432</td>\n",
       "    </tr>\n",
       "    <tr>\n",
       "      <th>서울</th>\n",
       "      <td>30.212094</td>\n",
       "      <td>29.219314</td>\n",
       "      <td>33.641697</td>\n",
       "      <td>38.515343</td>\n",
       "      <td>40.117329</td>\n",
       "      <td>29.557762</td>\n",
       "      <td>40.094765</td>\n",
       "      <td>31.362816</td>\n",
       "      <td>37.590253</td>\n",
       "      <td>27.053249</td>\n",
       "    </tr>\n",
       "    <tr>\n",
       "      <th>전라/제주</th>\n",
       "      <td>29.255889</td>\n",
       "      <td>28.881156</td>\n",
       "      <td>33.993576</td>\n",
       "      <td>34.716274</td>\n",
       "      <td>35.064240</td>\n",
       "      <td>28.506424</td>\n",
       "      <td>35.438972</td>\n",
       "      <td>30.754818</td>\n",
       "      <td>34.769807</td>\n",
       "      <td>26.927195</td>\n",
       "    </tr>\n",
       "  </tbody>\n",
       "</table>\n",
       "</div>"
      ],
      "text/plain": [
       "            Q7A1       Q7A2       Q7A3       Q7A4       Q7A5       Q7A6  \\\n",
       "AREA                                                                      \n",
       "강원/충청  29.259635  28.169371  33.468560  37.043611  36.992901  28.397566   \n",
       "경기/인천  28.206740  29.929577  33.714789  37.336519  37.374245  29.275654   \n",
       "경상     26.897788  24.745965  29.736999  36.476390  36.984459  25.493126   \n",
       "서울     30.212094  29.219314  33.641697  38.515343  40.117329  29.557762   \n",
       "전라/제주  29.255889  28.881156  33.993576  34.716274  35.064240  28.506424   \n",
       "\n",
       "            Q7A7       Q7A8       Q7A9      Q7A10  \n",
       "AREA                                               \n",
       "강원/충청  37.728195  31.313387  35.395538  26.749493  \n",
       "경기/인천  39.901911  31.991952  38.141348  26.571932  \n",
       "경상     38.404065  29.946204  37.806336  25.149432  \n",
       "서울     40.094765  31.362816  37.590253  27.053249  \n",
       "전라/제주  35.438972  30.754818  34.769807  26.927195  "
      ]
     },
     "execution_count": 161,
     "metadata": {},
     "output_type": "execute_result"
    }
   ],
   "source": [
    "stress_mean = likert_to_mean(stress_raw,{'전혀 없었다': 0, '가끔 있었다': 25, '거의 없었다': 50, '꽤 자주 있었다': 75, '매우 자주 있었다': 100})\n",
    "stress_mean.head()"
   ]
  },
  {
   "cell_type": "markdown",
   "metadata": {},
   "source": [
    "## 가족 관계 관련 항목 추출"
   ]
  },
  {
   "cell_type": "code",
   "execution_count": 7,
   "metadata": {},
   "outputs": [],
   "source": [
    "family_raw = df_preprocessing(mental_raw,['AREA','Q16A1', 'Q16A2', 'Q16A3', 'Q16A4'])"
   ]
  },
  {
   "cell_type": "code",
   "execution_count": 9,
   "metadata": {},
   "outputs": [
    {
     "data": {
      "text/plain": [
       "Q16A1    0\n",
       "Q16A2    0\n",
       "Q16A3    0\n",
       "Q16A4    0\n",
       "dtype: int64"
      ]
     },
     "execution_count": 9,
     "metadata": {},
     "output_type": "execute_result"
    }
   ],
   "source": [
    "# 결측치 확인 : 0\n",
    "family_raw.isnull().sum()"
   ]
  },
  {
   "cell_type": "code",
   "execution_count": 11,
   "metadata": {},
   "outputs": [
    {
     "data": {
      "text/plain": [
       "Q16A1\n",
       "매우그렇다       3651\n",
       "그런편이다       2581\n",
       "그렇지않은편이다     330\n",
       "전혀그렇지않다      127\n",
       "Name: count, dtype: int64"
      ]
     },
     "execution_count": 11,
     "metadata": {},
     "output_type": "execute_result"
    }
   ],
   "source": [
    "family_raw['Q16A1'].value_counts()"
   ]
  },
  {
   "cell_type": "code",
   "execution_count": 12,
   "metadata": {},
   "outputs": [
    {
     "data": {
      "text/html": [
       "<div>\n",
       "<style scoped>\n",
       "    .dataframe tbody tr th:only-of-type {\n",
       "        vertical-align: middle;\n",
       "    }\n",
       "\n",
       "    .dataframe tbody tr th {\n",
       "        vertical-align: top;\n",
       "    }\n",
       "\n",
       "    .dataframe thead th {\n",
       "        text-align: right;\n",
       "    }\n",
       "</style>\n",
       "<table border=\"1\" class=\"dataframe\">\n",
       "  <thead>\n",
       "    <tr style=\"text-align: right;\">\n",
       "      <th></th>\n",
       "      <th>Q16A1</th>\n",
       "      <th>Q16A2</th>\n",
       "      <th>Q16A3</th>\n",
       "      <th>Q16A4</th>\n",
       "    </tr>\n",
       "    <tr>\n",
       "      <th>AREA</th>\n",
       "      <th></th>\n",
       "      <th></th>\n",
       "      <th></th>\n",
       "      <th></th>\n",
       "    </tr>\n",
       "  </thead>\n",
       "  <tbody>\n",
       "    <tr>\n",
       "      <th>강원/충청</th>\n",
       "      <td>81.518256</td>\n",
       "      <td>78.946146</td>\n",
       "      <td>79.218053</td>\n",
       "      <td>81.753854</td>\n",
       "    </tr>\n",
       "    <tr>\n",
       "      <th>경기/인천</th>\n",
       "      <td>82.204427</td>\n",
       "      <td>79.301710</td>\n",
       "      <td>79.000553</td>\n",
       "      <td>82.169819</td>\n",
       "    </tr>\n",
       "    <tr>\n",
       "      <th>경상</th>\n",
       "      <td>83.154812</td>\n",
       "      <td>80.184340</td>\n",
       "      <td>80.384399</td>\n",
       "      <td>82.854931</td>\n",
       "    </tr>\n",
       "    <tr>\n",
       "      <th>서울</th>\n",
       "      <td>81.689892</td>\n",
       "      <td>79.040884</td>\n",
       "      <td>78.800271</td>\n",
       "      <td>81.056047</td>\n",
       "    </tr>\n",
       "    <tr>\n",
       "      <th>전라/제주</th>\n",
       "      <td>80.098394</td>\n",
       "      <td>77.096895</td>\n",
       "      <td>76.813383</td>\n",
       "      <td>79.811349</td>\n",
       "    </tr>\n",
       "  </tbody>\n",
       "</table>\n",
       "</div>"
      ],
      "text/plain": [
       "           Q16A1      Q16A2      Q16A3      Q16A4\n",
       "AREA                                             \n",
       "강원/충청  81.518256  78.946146  79.218053  81.753854\n",
       "경기/인천  82.204427  79.301710  79.000553  82.169819\n",
       "경상     83.154812  80.184340  80.384399  82.854931\n",
       "서울     81.689892  79.040884  78.800271  81.056047\n",
       "전라/제주  80.098394  77.096895  76.813383  79.811349"
      ]
     },
     "execution_count": 12,
     "metadata": {},
     "output_type": "execute_result"
    }
   ],
   "source": [
    "family_mean = likert_to_mean(family_raw,{'전혀그렇지않다': 0, '그렇지않은편이다': 33.3, '그런편이다': 66.7, '매우그렇다': 100})\n",
    "family_mean.head()"
   ]
  },
  {
   "cell_type": "code",
   "execution_count": null,
   "metadata": {},
   "outputs": [],
   "source": []
  }
 ],
 "metadata": {
  "kernelspec": {
   "display_name": "base",
   "language": "python",
   "name": "python3"
  },
  "language_info": {
   "codemirror_mode": {
    "name": "ipython",
    "version": 3
   },
   "file_extension": ".py",
   "mimetype": "text/x-python",
   "name": "python",
   "nbconvert_exporter": "python",
   "pygments_lexer": "ipython3",
   "version": "3.8.19"
  }
 },
 "nbformat": 4,
 "nbformat_minor": 2
}
