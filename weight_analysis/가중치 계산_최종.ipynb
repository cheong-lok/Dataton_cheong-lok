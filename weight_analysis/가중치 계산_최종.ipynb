{
 "cells": [
  {
   "cell_type": "code",
   "execution_count": 1,
   "id": "dac8e260",
   "metadata": {},
   "outputs": [],
   "source": [
    "import numpy as np\n",
    "import pandas as pd"
   ]
  },
  {
   "cell_type": "markdown",
   "id": "53fdbf5a",
   "metadata": {},
   "source": [
    "## 중분류 별 가중치 (정책자료 크롤링 - 지표 별 언급 빈도 분석)"
   ]
  },
  {
   "cell_type": "code",
   "execution_count": 34,
   "id": "e39d87e7",
   "metadata": {},
   "outputs": [
    {
     "data": {
      "text/plain": [
       "Index(['대분류', '중분류', '소분류', '중요단어', '여가부_2024청소년정책1권', '여가부_2024청소년정책2권',\n",
       "       '여가부_청소년매체및유해환경실태조사', '교육부_2024학생건강...추진방향', '교육부_2023학생건강...추진방향',\n",
       "       '질병관리청_청소년건강행태...발표자료', '[개인+외부] 집계 A - 전체'],\n",
       "      dtype='object')"
      ]
     },
     "execution_count": 34,
     "metadata": {},
     "output_type": "execute_result"
    }
   ],
   "source": [
    "df.columns"
   ]
  },
  {
   "cell_type": "code",
   "execution_count": 36,
   "id": "38744a72",
   "metadata": {},
   "outputs": [
    {
     "data": {
      "text/plain": [
       "중분류\n",
       "\b건강교육        48.00000\n",
       "공동체/지역사회    124.87500\n",
       "신체           66.34375\n",
       "심리           52.25000\n",
       "위험요인        105.50000\n",
       "Name: [개인+외부] 집계 A - 전체, dtype: float64"
      ]
     },
     "execution_count": 36,
     "metadata": {},
     "output_type": "execute_result"
    }
   ],
   "source": [
    "df = pd.read_csv('./data/weight_crawling_V.1.csv')\n",
    "\n",
    "# 중분류를 기준으로 그룹화하고, 각 그룹에 대해 해당 컬럼들의 값을 더하고 평균을 구함\n",
    "grouped = df.groupby('중분류')['[개인+외부] 집계 A - 전체'].mean()"
   ]
  },
  {
   "cell_type": "code",
   "execution_count": 93,
   "id": "570e00f7",
   "metadata": {},
   "outputs": [
    {
     "name": "stdout",
     "output_type": "stream",
     "text": [
      "개인건강\n",
      "신체 중분류의 가중치: 0.5594\n",
      "심리 중분류의 가중치: 0.4406\n",
      "====================\n",
      "외부요인\n",
      "공동체/지역사회 중분류의 가중치: 0.4486\n",
      "위험요인 중분류의 가중치: 0.379\n",
      "건강교육 중분류의 가중치: 0.1724\n"
     ]
    }
   ],
   "source": [
    "# 각 중분류에 대한 평균 값\n",
    "health_education = 48.00000\n",
    "community = 124.87500\n",
    "physical = 66.34375\n",
    "mental = 52.25000\n",
    "risk_factor = 105.50000\n",
    "\n",
    "# 대분류 별 중분류에 대한 값의 합\n",
    "total_physical_mental = physical + mental\n",
    "total_ext_factor = health_education + community + risk_factor\n",
    "\n",
    "# 가중치 계산\n",
    "weight_physical = round((physical / total_physical_mental), 4)\n",
    "weight_mental = round((mental / total_physical_mental), 4)\n",
    "weight_health_edu = round((health_education / total_ext_factor), 4)\n",
    "weight_community = round((community / total_ext_factor), 4)\n",
    "weight_risk_fac = round((risk_factor / total_ext_factor), 4)\n",
    "\n",
    "# 결과 출력\n",
    "print(\"개인건강\")\n",
    "print(\"신체 중분류의 가중치:\", weight_physical)\n",
    "print(\"심리 중분류의 가중치:\", weight_mental)\n",
    "print(\"=\"*20)\n",
    "print(\"외부요인\")\n",
    "print(\"공동체/지역사회 중분류의 가중치:\", weight_community)\n",
    "print(\"위험요인 중분류의 가중치:\", weight_risk_fac)\n",
    "print(\"건강교육 중분류의 가중치:\", weight_health_edu)"
   ]
  },
  {
   "cell_type": "markdown",
   "id": "405233f8",
   "metadata": {},
   "source": [
    "## 소분류 별 가중치 - 전문가 설문 결과 (역수 부여)"
   ]
  },
  {
   "cell_type": "code",
   "execution_count": 9,
   "id": "667e4241",
   "metadata": {},
   "outputs": [],
   "source": [
    "# Min-Max 정규화 함수\n",
    "def min_max_normalize(arr):\n",
    "    min_val = np.min(arr)\n",
    "    max_val = np.max(arr)\n",
    "    return (arr - min_val) / (max_val - min_val)\n",
    "\n",
    "# 가중치 계산 함수\n",
    "def calculate_weights(priority_values):\n",
    "    weights = {}\n",
    "    for category, values in priority_values.items():\n",
    "        normalized_values = min_max_normalize(values)\n",
    "        weights[category] = normalized_values / np.sum(normalized_values)\n",
    "    return weights\n"
   ]
  },
  {
   "cell_type": "code",
   "execution_count": 10,
   "id": "f7ebcebb",
   "metadata": {},
   "outputs": [
    {
     "name": "stdout",
     "output_type": "stream",
     "text": [
      "건강교육의 소분류별 가중치:\n",
      "성교육: 0.338\n",
      "학교폭력 교육: 0.271\n",
      "청소년 매체 유해교육: 0.204\n",
      "안전 교육: 0.155\n",
      "영양/식습관 교육: 0.029\n",
      "개인 위생 교육: 0.003\n",
      "\n",
      "공동체/지역사회의 소분류별 가중치:\n",
      "가족(보호자) 상호작용: 0.541\n",
      "교사 상호작용: 0.118\n",
      "친구 상호작용: 0.305\n",
      "청소년 기관/센터 인지: 0.031\n",
      "청소년 기관/센터 경험: 0.005\n",
      "\n",
      "신체의 소분류별 가중치:\n",
      "신체활동: 0.470\n",
      "비만: 0.123\n",
      "흡연: 0.136\n",
      "음주: 0.083\n",
      "식생활: 0.136\n",
      "구강건강: 0.005\n",
      "개인위생: 0.035\n",
      "아토피/천식: 0.012\n",
      "\n",
      "심리의 소분류별 가중치:\n",
      "수면: 0.060\n",
      "우울: 0.284\n",
      "자살생각여부: 0.284\n",
      "스트레스: 0.230\n",
      "외로움: 0.040\n",
      "범불안장애: 0.003\n",
      "행복감: 0.099\n",
      "\n",
      "위험요인의 소분류별 가중치:\n",
      "학교폭력: 0.660\n",
      "성폭력/성범죄: 0.250\n",
      "유해업소: 0.084\n",
      "사행/대출: 0.007\n",
      "\n"
     ]
    }
   ],
   "source": [
    "# CSV 파일을 읽어들임\n",
    "# df = pd.read_csv('./지표 및 가중치 설정 - 가중치_지표별 설문_전문가.csv')\n",
    "\n",
    "# 누락지표 배제_v.2\n",
    "df = pd.read_csv('./data/지표 및 가중치 설정 - 가중치_지표별 설문_전문가_v.2.csv')\n",
    "\n",
    "# 중복된 열 이름을 제거하고 중분류와 소분류, 평균 열만 선택\n",
    "df_subset = df[['중분류', '소분류', '평균']]\n",
    "\n",
    "# 중분류를 기준으로 그룹화하고 각 그룹에 대해 소분류를 리스트로 모음\n",
    "grouped = df_subset.groupby('중분류')['소분류'].apply(list)\n",
    "\n",
    "\n",
    "# 각 중분류마다 소분류들끼리 비교하여 가중치 계산\n",
    "weights = {}\n",
    "for category, subcategories in grouped.items():\n",
    "    # 중복된 소분류를 제거하고 각 소분류별 우선순위를 리스트로 모음\n",
    "    priorities = df_subset[df_subset['소분류'].isin(subcategories)]['평균'].tolist()\n",
    "    \n",
    "    # 우선순위 역수를 취한 후 가중치 계산 (최소 가중치를 0.01로 설정하여 적용)\n",
    "    min_weight = 0.01\n",
    "    inverted_priorities = 1 / np.array(priorities)\n",
    "    normalized_values = min_max_normalize(inverted_priorities)\n",
    "    weights[category] = (normalized_values + min_weight) / (np.sum(normalized_values) + min_weight * len(normalized_values))\n",
    "\n",
    "# 결과 출력\n",
    "for category, subcategories in grouped.items():\n",
    "    print(f\"{category}의 소분류별 가중치:\")\n",
    "    for subcategory, weight in zip(subcategories, weights[category]):\n",
    "        print(f\"{subcategory}: {weight:.3f}\")\n",
    "    print()"
   ]
  },
  {
   "cell_type": "markdown",
   "id": "0c4bc906",
   "metadata": {},
   "source": [
    "#### 일부 카테고리 이름 정제"
   ]
  },
  {
   "cell_type": "code",
   "execution_count": 74,
   "id": "0e257cbc",
   "metadata": {},
   "outputs": [],
   "source": [
    "import re\n",
    "\n",
    "# CSV 파일 경로\n",
    "file_path = './data/지표 및 가중치 설정 - 가중치_지표별 설문_전문가.csv'\n",
    "\n",
    "# CSV 파일을 DataFrame으로 읽어옴\n",
    "df = pd.read_csv(file_path)\n",
    "\n",
    "# '건강교육'과 유사한 카테고리를 찾아 이름을 수정\n",
    "for idx, row in df.iterrows():\n",
    "    category = row['중분류']\n",
    "    if re.search(r'건강교육', category):\n",
    "        df.at[idx, '중분류'] = '건강교육'\n",
    "\n",
    "# 수정된 DataFrame을 CSV 파일로 저장\n",
    "df.to_csv(file_path, index=False)"
   ]
  },
  {
   "cell_type": "code",
   "execution_count": 14,
   "id": "b2138893",
   "metadata": {},
   "outputs": [
    {
     "name": "stdout",
     "output_type": "stream",
     "text": [
      "건강교육의 소분류별 가중치:\n",
      "{'건강교육': {'성교육': 0.3379, '학교폭력 교육': 0.2707, '청소년 매체 유해교육': 0.2043, '안전 교육': 0.155, '영양/식습관 교육': 0.0287, '개인 위생 교육': 0.0033}}\n",
      "\n",
      "공동체/지역사회의 소분류별 가중치:\n",
      "{'공동체/지역사회': {'가족(보호자) 상호작용': 0.5407, '교사 상호작용': 0.1178, '친구 상호작용': 0.305, '청소년 기관/센터 인지': 0.0311, '청소년 기관/센터 경험': 0.0054}}\n",
      "\n",
      "신체의 소분류별 가중치:\n",
      "{'신체': {'신체활동': 0.4701, '비만': 0.1233, '흡연': 0.1358, '음주': 0.0827, '식생활': 0.1358, '구강건강': 0.0047, '개인위생': 0.0354, '아토피/천식': 0.0123}}\n",
      "\n",
      "심리의 소분류별 가중치:\n",
      "{'심리': {'수면': 0.0598, '우울': 0.2843, '자살생각여부': 0.2843, '스트레스': 0.2299, '외로움': 0.0402, '범불안장애': 0.0028, '행복감': 0.0987}}\n",
      "\n",
      "위험요인의 소분류별 가중치:\n",
      "{'위험요인': {'학교폭력': 0.6597, '성폭력/성범죄': 0.2503, '유해업소': 0.0835, '사행/대출': 0.0065}}\n"
     ]
    }
   ],
   "source": [
    "import re\n",
    "\n",
    "# 각 가중치를 소수점 네 자리까지 반올림하여 표시하는 함수\n",
    "def round_weights(weights):\n",
    "    rounded_weights = {}\n",
    "    for category, sub_weights in weights.items():\n",
    "        rounded_sub_weights = {subcategory: round(weight, 4) for subcategory, weight in sub_weights.items()}\n",
    "        rounded_weights[category] = rounded_sub_weights\n",
    "    return rounded_weights\n",
    "\n",
    "# 각 중분류마다 소분류들끼리 비교하여 가중치 계산하고 결과를 딕셔너리에 저장\n",
    "weights_physical_sub = {}\n",
    "weights_mental_sub = {}\n",
    "weights_health_education_sub = {}\n",
    "weights_community_sub = {}\n",
    "weights_risk_sub = {}\n",
    "\n",
    "for category, subcategories in grouped.items():\n",
    "    priorities = df_subset[df_subset['소분류'].isin(subcategories)]['평균'].tolist()\n",
    "    min_weight = 0.01\n",
    "    inverted_priorities = 1 / np.array(priorities)\n",
    "    normalized_values = min_max_normalize(inverted_priorities)\n",
    "    total_normalized_values = np.sum(normalized_values)\n",
    "    total_weight = total_normalized_values + min_weight * len(normalized_values)\n",
    "    normalized_weights = (normalized_values + min_weight) / total_weight\n",
    "\n",
    "    # 카테고리 이름에 '건강교육'이 포함된 경우 건강교육 카테고리로 저장\n",
    "    if re.search(r'건강교육', category):\n",
    "        weights_health_education_sub[category] = dict(zip(subcategories, normalized_weights))\n",
    "    elif category == '공동체/지역사회':\n",
    "        weights_community_sub[category] = dict(zip(subcategories, normalized_weights))\n",
    "    elif category == '신체':\n",
    "        weights_physical_sub[category] = dict(zip(subcategories, normalized_weights))\n",
    "    elif category == '심리':\n",
    "        weights_mental_sub[category] = dict(zip(subcategories, normalized_weights))\n",
    "    elif category == '위험요인':\n",
    "        weights_risk_sub[category] = dict(zip(subcategories, normalized_weights))\n",
    "\n",
    "\n",
    "weights_physical_sub = round_weights(weights_physical_sub)\n",
    "weights_mental_sub = round_weights(weights_mental_sub)\n",
    "weights_health_education_sub = round_weights(weights_health_education_sub)\n",
    "weights_community_sub = round_weights(weights_community_sub)\n",
    "weights_risk_sub = round_weights(weights_risk_sub)\n",
    "\n",
    "import pandas as pd\n",
    "\n",
    "# 결과를 DataFrame으로 변환\n",
    "adjusted_weights_health_edu_df = pd.DataFrame(weights_health_education_sub).T\n",
    "adjusted_weights_community_df = pd.DataFrame(weights_community_sub).T\n",
    "adjusted_weights_physical_df = pd.DataFrame(weights_physical_sub).T\n",
    "adjusted_weights_mental_df = pd.DataFrame(weights_mental_sub).T\n",
    "adjusted_weights_risk_df = pd.DataFrame(weights_risk_sub).T\n",
    "\n",
    "# 모든 DataFrame을 병합\n",
    "adjusted_weights_df = pd.concat([adjusted_weights_health_edu_df, \n",
    "                                 adjusted_weights_community_df, \n",
    "                                 adjusted_weights_physical_df, \n",
    "                                 adjusted_weights_mental_df, \n",
    "                                 adjusted_weights_risk_df], \n",
    "                                keys=['건강교육', '공동체/지역사회', '신체', '심리', '위험요인'])\n",
    "\n",
    "# DataFrame을 CSV 파일로 저장\n",
    "adjusted_weights_df.to_csv('adjusted_weights_v1.csv', index_label=['category', 'subcategory'])\n",
    "\n",
    "\n",
    "# 결과 출력\n",
    "print(\"건강교육의 소분류별 가중치:\")\n",
    "print(weights_health_education_sub)\n",
    "print()\n",
    "\n",
    "print(\"공동체/지역사회의 소분류별 가중치:\")\n",
    "print(weights_community_sub)\n",
    "print()\n",
    "\n",
    "print(\"신체의 소분류별 가중치:\")\n",
    "print(weights_physical_sub)\n",
    "print()\n",
    "\n",
    "print(\"심리의 소분류별 가중치:\")\n",
    "print(weights_mental_sub)\n",
    "print()\n",
    "\n",
    "print(\"위험요인의 소분류별 가중치:\")\n",
    "print(weights_risk_sub)\n"
   ]
  },
  {
   "cell_type": "markdown",
   "id": "b875ff13",
   "metadata": {},
   "source": [
    "### 복합 가중치 계산모델 (중분류 소속 소분류 가중치의 합 = 중분류의 가중치)"
   ]
  },
  {
   "cell_type": "code",
   "execution_count": 12,
   "id": "99d73a90",
   "metadata": {},
   "outputs": [
    {
     "name": "stdout",
     "output_type": "stream",
     "text": [
      "건강교육 중분류의 소분류별 가중치 (중분류 반영):\n",
      "{'성교육': 0.0583, '학교폭력 교육': 0.0467, '청소년 매체 유해교육': 0.0352, '안전 교육': 0.0267, '영양/식습관 교육': 0.0049, '개인 위생 교육': 0.0006}\n",
      "\n",
      "공동체/지역사회 중분류의 소분류별 가중치 (중분류 반영):\n",
      "{'가족(보호자) 상호작용': 0.2426, '교사 상호작용': 0.0528, '친구 상호작용': 0.1368, '청소년 기관/센터 인지': 0.014, '청소년 기관/센터 경험': 0.0024}\n",
      "\n",
      "신체 중분류의 소분류별 가중치 (중분류 반영):\n",
      "{'신체활동': 0.2629, '비만': 0.069, '흡연': 0.076, '음주': 0.0463, '식생활': 0.076, '구강건강': 0.0026, '개인위생': 0.0198, '아토피/천식': 0.0069}\n",
      "\n",
      "정신 중분류의 소분류별 가중치 (중분류 반영):\n",
      "{'수면': 0.0263, '우울': 0.1253, '자살생각여부': 0.1253, '스트레스': 0.1013, '외로움': 0.0177, '범불안장애': 0.0012, '행복감': 0.0435}\n",
      "\n",
      "위험요인 중분류의 소분류별 가중치 (중분류 반영):\n",
      "{'학교폭력': 0.25, '성폭력/성범죄': 0.0949, '유해업소': 0.0316, '사행/대출': 0.0025}\n"
     ]
    }
   ],
   "source": [
    "# 개인건강 중분류의 가중치    \n",
    "    \n",
    "weight_physical = 0.5594\n",
    "weight_mental = 0.4406\n",
    "\n",
    "# 외부요인 중분류의 가중치\n",
    "weight_community = 0.4486\n",
    "weight_risk_fac = 0.379\n",
    "weight_health_edu = 0.1724\n",
    "\n",
    "# 각 중분류의 소분류 가중치 합산\n",
    "total_weights_health_education_sub = sum(weights_health_education_sub['건강교육'].values())\n",
    "total_weights_community_sub = sum(weights_community_sub['공동체/지역사회'].values())\n",
    "total_weights_physical_sub = sum(weights_physical_sub['신체'].values())\n",
    "total_weights_mental_sub = sum(weights_mental_sub['심리'].values())\n",
    "total_weights_risk_sub = sum(weights_risk_sub['위험요인'].values())\n",
    "\n",
    "# 각 중분류의 가중치 계산\n",
    "adjusted_weight_health_edu = {subcategory: round(weight * weight_health_edu / total_weights_health_education_sub, 4) for subcategory, weight in weights_health_education_sub['건강교육'].items()}\n",
    "adjusted_weight_community = {subcategory: round(weight * weight_community / total_weights_community_sub, 4) for subcategory, weight in weights_community_sub['공동체/지역사회'].items()}\n",
    "adjusted_weight_physical = {subcategory: round(weight * weight_physical / total_weights_physical_sub, 4) for subcategory, weight in weights_physical_sub['신체'].items()}\n",
    "adjusted_weight_mental = {subcategory: round(weight * weight_mental / total_weights_mental_sub, 4) for subcategory, weight in weights_mental_sub['심리'].items()}\n",
    "adjusted_weight_risk = {subcategory: round(weight * weight_risk_fac / total_weights_risk_sub, 4) for subcategory, weight in weights_risk_sub['위험요인'].items()}\n",
    "\n",
    "\n",
    "# 결과를 DataFrame으로 변환\n",
    "adjusted_weights_df = pd.DataFrame({\n",
    "    '건강교육': adjusted_weight_health_edu,\n",
    "    '공동체/지역사회': adjusted_weight_community,\n",
    "    '신체': adjusted_weight_physical,\n",
    "    '정신': adjusted_weight_mental,\n",
    "    '위험요인': adjusted_weight_risk\n",
    "})\n",
    "\n",
    "# DataFrame을 CSV 파일로 저장\n",
    "adjusted_weights_df.to_csv('adjusted_weights.csv', index_label='subcategory')\n",
    "\n",
    "\n",
    "# 결과 출력\n",
    "print(\"건강교육 중분류의 소분류별 가중치 (중분류 반영):\")\n",
    "print(adjusted_weight_health_edu)\n",
    "print()\n",
    "\n",
    "print(\"공동체/지역사회 중분류의 소분류별 가중치 (중분류 반영):\")\n",
    "print(adjusted_weight_community)\n",
    "print()\n",
    "\n",
    "print(\"신체 중분류의 소분류별 가중치 (중분류 반영):\")\n",
    "print(adjusted_weight_physical)\n",
    "print()\n",
    "\n",
    "print(\"정신 중분류의 소분류별 가중치 (중분류 반영):\")\n",
    "print(adjusted_weight_mental)\n",
    "print()\n",
    "\n",
    "print(\"위험요인 중분류의 소분류별 가중치 (중분류 반영):\")\n",
    "print(adjusted_weight_risk)\n"
   ]
  },
  {
   "cell_type": "code",
   "execution_count": 13,
   "id": "737ea93e",
   "metadata": {},
   "outputs": [
    {
     "name": "stdout",
     "output_type": "stream",
     "text": [
      "개인건강 중분류의 가중치 합: 0.5595\n",
      "개인건강 중분류의 가중치와 일치 여부: False\n",
      "\n",
      "정신 중분류의 가중치 합: 0.44059999999999994\n",
      "정신 중분류의 가중치와 일치 여부: False\n",
      "\n",
      "공동체/지역사회 중분류의 가중치 합: 0.44860000000000005\n",
      "공동체/지역사회 중분류의 가중치와 일치 여부: False\n",
      "\n",
      "위험요인 중분류의 가중치 합: 0.379\n",
      "위험요인 중분류의 가중치와 일치 여부: True\n",
      "\n",
      "건강교육 중분류의 가중치 합: 0.17239999999999997\n",
      "건강교육 중분류의 가중치와 일치 여부: False\n"
     ]
    }
   ],
   "source": [
    "# 신체건강 중분류의 가중치 합과 비교\n",
    "total_adjusted_weight_physical_sub = sum(adjusted_weight_physical.values())\n",
    "print(\"개인건강 중분류의 가중치 합:\", round(total_adjusted_weight_physical_sub, 4))\n",
    "print(\"개인건강 중분류의 가중치와 일치 여부:\", round(total_adjusted_weight_physical_sub, 4) == round(weight_physical, 4))\n",
    "print()\n",
    "\n",
    "# 정신 중분류의 가중치 합과 비교\n",
    "total_adjusted_weight_mental_sub = sum(adjusted_weight_mental.values())\n",
    "print(\"정신 중분류의 가중치 합:\", total_adjusted_weight_mental_sub)\n",
    "print(\"정신 중분류의 가중치와 일치 여부:\", total_adjusted_weight_mental_sub == weight_mental)\n",
    "print()\n",
    "\n",
    "# 공동체/지역사회 중분류의 가중치 합과 비교\n",
    "total_adjusted_weight_community_sub = sum(adjusted_weight_community.values())\n",
    "print(\"공동체/지역사회 중분류의 가중치 합:\", total_adjusted_weight_community_sub)\n",
    "print(\"공동체/지역사회 중분류의 가중치와 일치 여부:\", total_adjusted_weight_community_sub == weight_community)\n",
    "print()\n",
    "\n",
    "# 위험요인 중분류의 가중치 합과 비교\n",
    "total_adjusted_weight_risk_sub = sum(adjusted_weight_risk.values())\n",
    "print(\"위험요인 중분류의 가중치 합:\", total_adjusted_weight_risk_sub)\n",
    "print(\"위험요인 중분류의 가중치와 일치 여부:\", total_adjusted_weight_risk_sub == weight_risk_fac)\n",
    "print()\n",
    "\n",
    "# 건강교육 중분류의 가중치 합과 비교\n",
    "total_adjusted_weight_health_edu_sub = sum(adjusted_weight_health_edu.values())\n",
    "print(\"건강교육 중분류의 가중치 합:\", total_adjusted_weight_health_edu_sub)\n",
    "print(\"건강교육 중분류의 가중치와 일치 여부:\", total_adjusted_weight_health_edu_sub == weight_health_edu)\n"
   ]
  },
  {
   "cell_type": "code",
   "execution_count": null,
   "id": "2bd1432e",
   "metadata": {},
   "outputs": [],
   "source": []
  }
 ],
 "metadata": {
  "kernelspec": {
   "display_name": "Python 3 (ipykernel)",
   "language": "python",
   "name": "python3"
  },
  "language_info": {
   "codemirror_mode": {
    "name": "ipython",
    "version": 3
   },
   "file_extension": ".py",
   "mimetype": "text/x-python",
   "name": "python",
   "nbconvert_exporter": "python",
   "pygments_lexer": "ipython3",
   "version": "3.11.5"
  }
 },
 "nbformat": 4,
 "nbformat_minor": 5
}
